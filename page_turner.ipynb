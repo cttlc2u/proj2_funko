{
 "cells": [
  {
   "cell_type": "code",
   "execution_count": 1,
   "metadata": {},
   "outputs": [],
   "source": [
    "from bs4 import BeautifulSoup\n",
    "import requests\n",
    "import time, os\n",
    "from selenium import webdriver\n",
    "from selenium.webdriver.common.keys import Keys\n",
    "import pickle"
   ]
  },
  {
   "cell_type": "code",
   "execution_count": 2,
   "metadata": {},
   "outputs": [],
   "source": [
    "chromedriver = \"/Applications/chromedriver\" # path to the chromedriver executable\n",
    "os.environ[\"webdriver.chrome.driver\"] = chromedriver"
   ]
  },
  {
   "cell_type": "code",
   "execution_count": 3,
   "metadata": {},
   "outputs": [],
   "source": [
    "url = 'https://www.hobbydb.com/marketplaces/poppriceguide/subjects/pop-vinyl-series'"
   ]
  },
  {
   "cell_type": "code",
   "execution_count": null,
   "metadata": {},
   "outputs": [],
   "source": [
    "driver = webdriver.Chrome(chromedriver)\n",
    "#driver.get(url)"
   ]
  },
  {
   "cell_type": "code",
   "execution_count": null,
   "metadata": {},
   "outputs": [],
   "source": [
    "next_button = driver.find_element_by_xpath(\"//*[contains(text(), 'Next')]\")"
   ]
  },
  {
   "cell_type": "code",
   "execution_count": null,
   "metadata": {},
   "outputs": [],
   "source": [
    "next_button.click()"
   ]
  },
  {
   "cell_type": "code",
   "execution_count": null,
   "metadata": {},
   "outputs": [],
   "source": [
    "#https://www.hobbydb.com/marketplaces/poppriceguide/catalog_items/1950-batmobile/subvariants"
   ]
  },
  {
   "cell_type": "code",
   "execution_count": null,
   "metadata": {},
   "outputs": [],
   "source": [
    "url = 'https://www.hobbydb.com/marketplaces/poppriceguide/subjects/pop-vinyl-series?filters[related_to]=49962&filters[in_collection]=all&filters[in_wishlist]=all&filters[on_sale]=all&id=49962&order[name]=name&order[sort]=asc&page=3&subject_id=49962&subvariants=true'"
   ]
  },
  {
   "cell_type": "code",
   "execution_count": null,
   "metadata": {},
   "outputs": [],
   "source": [
    "previous = driver.find_element_by_xpath(\"//*[contains(text(), \"Previous\")]\")"
   ]
  },
  {
   "cell_type": "code",
   "execution_count": null,
   "metadata": {},
   "outputs": [],
   "source": [
    "prev = driver.find_element_by_xpath(\"//*[contains(text(), 'Previous')]\")"
   ]
  },
  {
   "cell_type": "code",
   "execution_count": null,
   "metadata": {},
   "outputs": [],
   "source": [
    "soup = BeautifulSoup(driver.page_source, 'html.parser')"
   ]
  },
  {
   "cell_type": "code",
   "execution_count": null,
   "metadata": {},
   "outputs": [],
   "source": [
    "soup.find_all('div', class_='col-sm-2 col-xs-6 pull-left')"
   ]
  },
  {
   "cell_type": "code",
   "execution_count": null,
   "metadata": {},
   "outputs": [],
   "source": [
    "soup.find_all('span')"
   ]
  },
  {
   "cell_type": "code",
   "execution_count": null,
   "metadata": {},
   "outputs": [],
   "source": [
    "element = '//*[@id=\"related-items\"]/catalog-item-search-results/div[1]/div[2]/pagination-container/div/pagination/div/div[1]/span[2]'"
   ]
  },
  {
   "cell_type": "code",
   "execution_count": null,
   "metadata": {},
   "outputs": [],
   "source": [
    "#prev = driver.find_element_by_xpath(element)"
   ]
  },
  {
   "cell_type": "code",
   "execution_count": null,
   "metadata": {},
   "outputs": [],
   "source": [
    "prev.click()"
   ]
  },
  {
   "cell_type": "code",
   "execution_count": null,
   "metadata": {},
   "outputs": [],
   "source": [
    "counter = 0\n",
    "driver.get(url)\n",
    "prev = driver.find_element_by_xpath(\"//*[contains(text(), 'Previous')]\")\n",
    "while prev:\n",
    "    try:\n",
    "        counter+=1\n",
    "        prev.click()\n",
    "        time.sleep(1)\n",
    "        print(counter)\n",
    "    except:\n",
    "        print('done')\n",
    "        break"
   ]
  },
  {
   "cell_type": "code",
   "execution_count": null,
   "metadata": {},
   "outputs": [],
   "source": [
    "counter = 0\n",
    "driver.get(url)\n",
    "next_button = driver.find_element_by_xpath(\"//*[contains(text(), 'Next')]\")\n",
    "for i in range(100):\n",
    "    counter+=1\n",
    "    next_button.click()\n",
    "    time.sleep(2)\n",
    "    print(counter)"
   ]
  },
  {
   "cell_type": "code",
   "execution_count": null,
   "metadata": {},
   "outputs": [],
   "source": [
    "#as of 1/13/21 there are 1115, with 10 funkos per page (minus last page)\n",
    "counter = 0\n",
    "driver.get(url)\n",
    "next_button = driver.find_element_by_xpath(\"//*[contains(text(), 'Next')]\")\n",
    "while True:\n",
    "    try:\n",
    "        counter+=1\n",
    "        next_button.click()\n",
    "        time.sleep(1)\n",
    "        print(counter)\n",
    "    except:\n",
    "        print('done')\n",
    "        break\n",
    "    "
   ]
  },
  {
   "cell_type": "code",
   "execution_count": null,
   "metadata": {},
   "outputs": [],
   "source": [
    "single_pages = []\n",
    "driver.get(url)\n",
    "next_button = driver.find_element_by_xpath(\"//*[contains(text(), 'Next')]\")\n",
    "for i in range(3):\n",
    "    try:\n",
    "        links = soup.find_all('a', class_='catalog-item-name ng-binding')\n",
    "        for link in links:\n",
    "            name, page = link.text, link.get(\"href\")\n",
    "            single_pages.append([name,page])\n",
    "            next_button.click()\n",
    "            links = soup.find_all('a', class_='catalog-item-name ng-binding')\n",
    "            #time.sleep(1)"
   ]
  },
  {
   "cell_type": "code",
   "execution_count": null,
   "metadata": {},
   "outputs": [],
   "source": [
    "single_pages = []\n",
    "driver = webdriver.Chrome(chromedriver)\n",
    "driver.get(url)\n",
    "soup = BeautifulSoup(driver.page_source, 'html.parser')\n",
    "next_button = driver.find_element_by_xpath(\"//*[contains(text(), 'Next')]\")\n",
    "for i in range(3):\n",
    "    try:\n",
    "        links = soup.find_all('a', class_='catalog-item-name ng-binding')\n",
    "        for link in links:\n",
    "            name = link.text\n",
    "            name = name.strip()\n",
    "            page = link.get(\"href\")\n",
    "            page = page.replace('/marketplaces/poppriceguide/catalog_items/','')\n",
    "            single_pages.append([name,page])\n",
    "            next_button.click()    \n",
    "        print(single_pages)"
   ]
  },
  {
   "cell_type": "code",
   "execution_count": 5,
   "metadata": {},
   "outputs": [],
   "source": [
    "single_pages = []\n",
    "driver = webdriver.Chrome(chromedriver)\n",
    "driver.get(url)\n",
    "next_button = driver.find_element_by_xpath(\"//*[contains(text(), 'Next')]\")\n",
    "for i in range(1500):\n",
    "    try:\n",
    "        scraper()\n",
    "    except:\n",
    "        break\n",
    "soup = BeautifulSoup(driver.page_source, 'html.parser')\n",
    "links = soup.find_all('a', class_='catalog-item-name ng-binding')\n",
    "for link in links:\n",
    "    name = link.text\n",
    "    name = name.strip()\n",
    "    page = link.get(\"href\")\n",
    "    page = page.replace('/marketplaces/poppriceguide/catalog_items/','')\n",
    "    single_pages.append([name,page])\n",
    "#with open('pop_pages.pickle', 'wb') as pop_pages_pickle:\n",
    "    #pickle.dump(single_pages, pop_pages_pickle)\n",
    "with open('pop_pages.pickle', 'wb') as pop_pages_pickle:\n",
    "    pickle.dump(single_pages, pop_pages_pickle)"
   ]
  },
  {
   "cell_type": "code",
   "execution_count": 11,
   "metadata": {},
   "outputs": [
    {
     "name": "stdout",
     "output_type": "stream",
     "text": [
      "[['12th Man Freddy Funko', '12th-man'], ['1950 Batmobile', '1950-batmobile/subvariants'], [\"1950's Elvis\", '1950-s-elvis'], [\"1950's Elvis (Metallic Gold)\", '1950-s-elvis-metallic-gold'], ['1970 Charger w/Dom Toretto #17', '1970-charger-w-dom-toretto'], [\"1970's Elvis\", '1970-s-elvis'], [\"1970's Elvis (Glow in the Dark)\", '1970-s-elvis-glow-in-the-dark-479dfff4-e35a-41ac-a66c-20b80117df2c'], ['Soul 22', 'soul-22/subvariants'], ['442nd Clone Trooper [Celebration]', '442nd-clone-trooper-celebration'], ['442nd Clone Trooper [Galactic Convention]', '442nd-clone-trooper'], ['4-LOM [Celebration]', '4-lom-58f0e626-d30e-4e19-aac8-e75f0dde306b'], ['4-LOM [Galactic Convention]', '4-lom-galactic-convention'], ['501st Clone Trooper', '501st-clone-trooper-f18b69d5-ee25-44ab-8641-c27c43d6bc0a'], ['50s Vision', '50s-vision-suit'], ['50s Vision (Glasses & Hat)', '50s-vision'], ['50s Wanda', '50s-wanda'], ['70’s Bob #901', '70s-bob'], ['70s Vision', '70s-vision'], ['70s Wanda', '70s-wanda'], ['8-Ball', '8-ball'], ['AAARRRGGHH!!!', 'aargh'], ['AAARRRGGHH!!! (Stone)', 'aaarrrgghh-stone/subvariants'], ['Aang On Airscooter', 'aang-on-airscooter'], ['Aang on Airscooter (Avatar State)', 'aang-on-airscooter-avatar-state'], ['Aang With Momo', 'aang-with-momo'], ['Aaron Donald', 'aaron-donald'], ['Aaron Judge', 'aaron-judge'], ['Aaron Judge (Away Jersey)', 'aaron-judge-away-jersey'], ['Aaron Nola', 'aaron-nola'], ['Aaron Nola (Signed by Aaron Nola)', 'aaron-nola-signed-by-aaron-nola'], ['Aaron Rodgers', 'aaron-rodgers-0ed8498f-da3f-4ca2-abdb-cb910efce3eb'], ['Aaron Rodgers (Color Rush)', 'aaron-rodgers-color-rush'], ['Aaron Rodgers (Super Bowl)', 'aaron-rodgers-super-bowl'], ['Aaron Rodgers (Throwback)', 'aaron-rodgers-throwback'], ['Aaron Rodgers (Wave 2)', 'aaron-rodgers-wave-2'], ['Aaron Rodgers (Wave 3)', 'aaron-rodgers-wave-3'], ['Aayla Secura', 'aayla-secura'], ['Abby Yates', 'abby-yates'], ['Abby Yates, Patty Tolan, Erin Gilbert, & Jillian Holtzmann (4-Pack) [FYE]', 'abby-yates-patty-tolan-erin-gilbert-jillian-holtzmann-4-pack'], ['Abed Nadir', 'abed-nadir'], ['Abe Sapien', 'abe-sapien-7d668fa7-992d-49ef-a872-d3645122b9ec'], ['Abominable Snowman', 'abominable-snowman'], ['Abominable Snowman (Diamond Collection)', 'abominable-snowman-diamond-collection'], ['Abominable Snowman (Flocked)', 'abominable-snowman-flocked'], ['Abomination', 'abomination-vinyl-art-toys'], ['Abraham', 'abraham'], ['Abraham #837 (Holding Baseball Bat)', 'abraham-up-movie'], ['Abraham Lincoln', 'abraham-lincoln-46a99bc9-4262-420d-89b3-9e12749880cd'], ['Abraham Prototype', 'abraham-prototype'], ['Abraham Sertrakian #280', 'abraham-sertrakian'], ['Absolute Carnage', 'absolute-carnage'], ['Abu', 'abu-fabb7c6b-5f5d-40e9-8495-9a3ff49af095/subvariants'], ['Abu (Flocked)', 'abu-flocked'], ['Ace Levy', 'ace-levy'], ['Ace the Bat Hound', 'ace-the-bat-hound-269ce888-3690-4019-aa78-a82ad1c33f2b'], ['Ace Ventura', 'ace-ventura-dd453bca-8b1b-4758-b711-7294e8b4ad0c'], ['Ace Ventura (Black Shirt) (Freddy Funko)', 'ace-ventura-black-shirt-freddy-funko'], ['Ace Ventura (Blue Shirt) (Freddy Funko)', 'ace-ventura-blue-shirt-freddy-funko'], ['A Cool New Friend', 'a-cool-new-friend'], ['A.C. Slater #315', 'a-c-slater'], ['Adam', 'adam-b18b866a-41d5-4f19-ac98-98dd5d3429e3'], ['Adam Banks', 'adam-banks'], ['Adam Bomb', 'adam-bomb-f07cb44b-a689-4423-9191-1c3e1457b339'], ['Adam Bomb (Glow in the Dark)', 'adam-bomb-glow-in-the-dark'], ['Adam Bomb (Metallic)', 'adam-bomb-metallic-nycc'], ['Adam Maitland (Transformed)', 'adam-maitland-transformed'], ['Adam Thielen', 'adam-thielen'], ['Adam Warlock', 'adam-warlock-vinyl-art-toys'], ['Adelaide Wilson', 'adelaide'], ['Adipose', 'adipose-ac20c1f5-ace5-4e0e-87e8-64b2fe99ee57'], ['Adipose (Glow in the Dark)', 'adipose-glow-in-the-dark'], ['Admiral Ackbar', 'admiral-ackbar-8707848d-7322-4ce2-af47-e12cfe0dc02e'], ['Admiral Ackbar (The Force Awakens)', 'admiral-ackbar-the-force-awakens'], ['Adore Delano', 'adore-delano'], ['Adrian Peterson', 'adrian-peterson-6e46c2b8-268b-418d-9ce6-3c7ae7d88840'], ['Adrian Tepes', 'adrian-tepes'], ['Aech', 'aech'], ['Aeroplane Cuphead', 'aeroplane-cuphead'], ['Agent 13', 'agent-13-civil-war'], ['Agent Anti-Venom', 'agent-anti-venom/subvariants'], ['Agent Carter', 'agent-carter/subvariants'], ['Agent Carter (Holding Nitramene Bomb)', 'agent-carter-w-nitramene-bomb/subvariants'], ['Agent Carter (Sepia)', 'agent-carter-sepia-tone'], ['Agent Coulson', 'agent-coulson'], ['Agent Daisy Johnson', 'agent-daisy-johnson'], ['Agent H #738', 'agent-k-neeble'], ['Agent J #718', 'agent-j/subvariants'], ['Agent J & Frank #715', 'agent-j-frank'], ['Agent K & Neeble #716', 'agent-h'], ['Agent M', 'agent-m'], ['Agent May', 'agent-melinda-may'], ['Agent M & Pawny', 'agent-m-pawny'], ['Agent Smith #158', 'agent-smith'], ['Agent Venom', 'agent-venom-290b76fe-b4b9-4cb1-b38b-ec353e748fdc/subvariants'], ['Agent Venom (Thunderbolts)', 'agent-venom-thunderbolts'], ['Aggretsuko', 'aggretsuko'], ['Aggretsuko (Date Night)', 'aggretsuko-date-night/subvariants'], ['Aggretsuko (Rage)', 'aggretsuko-rage-9caf7ccd-c0b5-4caf-8800-ea2bfe6087ea'], ['Aggretsuko (Rage) (10-Inch)', 'aggretsuko-rage-10-inch'], ['Aggretsuko (Rage) (10-Inch) [MCM]', 'aggretsuko-rage-10-inch-mcm'], ['Aggretsuko (Rage) (Metallic)', 'aggretsuko-rage-metallic'], ['Aggretsuko (Rage) (Metallic) [Primark]', 'aggretsuko-rage-metallic-primark'], ['Aggretsuko with Chainsaw', 'aggretsuko-with-chainsaw'], ['Agnes #34', 'agnes'], ['Aguilar', 'aguilar'], ['Aguilar (Crouching)', 'aguilar-crouching'], ['Agumon', 'agumon'], ['Ahmanet', 'ahmanet'], ['Ahsoka (Holographic)', 'ahsoka-holographic'], ['Ahsoka (Mechanic)', 'ahsoka-mechanic']]\n"
     ]
    }
   ],
   "source": [
    "print(single_pages)"
   ]
  },
  {
   "cell_type": "code",
   "execution_count": 49,
   "metadata": {},
   "outputs": [],
   "source": [
    "matching = [s for s in single_pages if \"subvariants\" in s]"
   ]
  },
  {
   "cell_type": "code",
   "execution_count": 50,
   "metadata": {},
   "outputs": [
    {
     "name": "stdout",
     "output_type": "stream",
     "text": [
      "[]\n"
     ]
    }
   ],
   "source": [
    "print(matching)"
   ]
  },
  {
   "cell_type": "code",
   "execution_count": 52,
   "metadata": {},
   "outputs": [
    {
     "data": {
      "text/plain": [
       "[['12th Man Freddy Funko', '12th-man'],\n",
       " ['1950 Batmobile', '1950-batmobile/subvariants'],\n",
       " [\"1950's Elvis\", '1950-s-elvis'],\n",
       " [\"1950's Elvis (Metallic Gold)\", '1950-s-elvis-metallic-gold'],\n",
       " ['1970 Charger w/Dom Toretto #17', '1970-charger-w-dom-toretto']]"
      ]
     },
     "execution_count": 52,
     "metadata": {},
     "output_type": "execute_result"
    }
   ],
   "source": [
    "single_pages[:100][:10][:5]"
   ]
  },
  {
   "cell_type": "code",
   "execution_count": 41,
   "metadata": {},
   "outputs": [
    {
     "data": {
      "text/plain": [
       "list"
      ]
     },
     "execution_count": 41,
     "metadata": {},
     "output_type": "execute_result"
    }
   ],
   "source": [
    "type(single_pages)"
   ]
  },
  {
   "cell_type": "code",
   "execution_count": 3,
   "metadata": {},
   "outputs": [],
   "source": [
    "with open('pop_pages.pickle','rb') as read_file:\n",
    "    reopen = pickle.load(read_file)"
   ]
  },
  {
   "cell_type": "code",
   "execution_count": 6,
   "metadata": {},
   "outputs": [
    {
     "data": {
      "text/plain": [
       "11152"
      ]
     },
     "execution_count": 6,
     "metadata": {},
     "output_type": "execute_result"
    }
   ],
   "source": [
    "#len(reopen) 11152\n",
    "len(single_pages)"
   ]
  },
  {
   "cell_type": "code",
   "execution_count": null,
   "metadata": {},
   "outputs": [],
   "source": [
    "def scraper123():\n",
    "    counter = 0\n",
    "    #soup = BeautifulSoup(driver.page_source, 'html.parser')\n",
    "    #links = soup.find_all('a', class_='catalog-item-name ng-binding')\n",
    "    links = list(range(10))\n",
    "    for link in links:\n",
    "        #name = link.text\n",
    "        #name = name.strip()\n",
    "        #page = link.get(\"href\")\n",
    "        #page = page.replace('/marketplaces/poppriceguide/catalog_items/','')\n",
    "        #single_pages.append([name,page])\n",
    "        #next_button.click()\n",
    "        print('link')\n",
    "    counter+=1\n",
    "    print(counter)\n",
    "        #time.sleep(5)\n",
    "    #print(single_pages)"
   ]
  },
  {
   "cell_type": "code",
   "execution_count": null,
   "metadata": {},
   "outputs": [],
   "source": [
    "#single_pages = []\n",
    "#driver = webdriver.Chrome(chromedriver)\n",
    "#driver.get(url)\n",
    "#next_button = driver.find_element_by_xpath(\"//*[contains(text(), 'Next')]\")\n",
    "for i in range(3):\n",
    "    scraper123()"
   ]
  },
  {
   "cell_type": "code",
   "execution_count": null,
   "metadata": {},
   "outputs": [],
   "source": [
    "single_pages = []\n",
    "driver = webdriver.Chrome(chromedriver)\n",
    "driver.get(url)\n",
    "soup = BeautifulSoup(driver.page_source, 'html.parser')\n",
    "links = soup.find_all('a', class_='catalog-item-name ng-binding')\n",
    "for link in links:\n",
    "    name = link.text\n",
    "    page = link.get(\"href\")\n",
    "    single_pages.append([name.strip(),page])\n",
    "    print(single_pages)"
   ]
  },
  {
   "cell_type": "code",
   "execution_count": 4,
   "metadata": {},
   "outputs": [],
   "source": [
    "def scraper():\n",
    "    soup = BeautifulSoup(driver.page_source, 'html.parser')\n",
    "    links = soup.find_all('a', class_='catalog-item-name ng-binding')\n",
    "    for link in links:\n",
    "        name = link.text\n",
    "        name = name.strip()\n",
    "        page = link.get(\"href\")\n",
    "        page = page.replace('/marketplaces/poppriceguide/catalog_items/','')\n",
    "        single_pages.append([name,page])\n",
    "    next_button.click()\n",
    "    time.sleep(5)"
   ]
  },
  {
   "cell_type": "code",
   "execution_count": null,
   "metadata": {},
   "outputs": [],
   "source": []
  },
  {
   "cell_type": "code",
   "execution_count": null,
   "metadata": {},
   "outputs": [],
   "source": []
  }
 ],
 "metadata": {
  "kernelspec": {
   "display_name": "Python 3",
   "language": "python",
   "name": "python3"
  },
  "language_info": {
   "codemirror_mode": {
    "name": "ipython",
    "version": 3
   },
   "file_extension": ".py",
   "mimetype": "text/x-python",
   "name": "python",
   "nbconvert_exporter": "python",
   "pygments_lexer": "ipython3",
   "version": "3.7.9"
  }
 },
 "nbformat": 4,
 "nbformat_minor": 4
}
